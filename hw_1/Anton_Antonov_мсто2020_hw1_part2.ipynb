{
  "nbformat": 4,
  "nbformat_minor": 5,
  "metadata": {
    "kernelspec": {
      "display_name": "Python 3",
      "language": "python",
      "name": "python3"
    },
    "language_info": {
      "codemirror_mode": {
        "name": "ipython",
        "version": 3
      },
      "file_extension": ".py",
      "mimetype": "text/x-python",
      "name": "python",
      "nbconvert_exporter": "python",
      "pygments_lexer": "ipython3",
      "version": "3.8.8"
    },
    "colab": {
      "name": "Anton_Antonov_мсто2020_hw1_part2.ipynb",
      "provenance": []
    }
  },
  "cells": [
    {
      "cell_type": "markdown",
      "metadata": {
        "id": "shaped-accuracy"
      },
      "source": [
        "# Прикладная статистика в машинном обучении 2021-2022"
      ],
      "id": "shaped-accuracy"
    },
    {
      "cell_type": "markdown",
      "metadata": {
        "id": "external-utilization"
      },
      "source": [
        "## Домашнее задание #1\n",
        "\n",
        "## Часть 2"
      ],
      "id": "external-utilization"
    },
    {
      "cell_type": "markdown",
      "metadata": {
        "id": "secondary-toddler"
      },
      "source": [
        "### Дедлайн: 29 октября 2021 года, 23:59"
      ],
      "id": "secondary-toddler"
    },
    {
      "cell_type": "markdown",
      "metadata": {
        "id": "healthy-jimmy"
      },
      "source": [
        "**Правила игры**\n",
        "\n",
        "1. Домашнее задание состоит из двух частей. Часть 1 содержит 13 обязательных и две бонусных задачи и предполагает решение «от руки». Часть 2 содержит 3 обязательных задачи и предполагает программное решение.\n",
        "\n",
        "\n",
        "2. Домашнее задание оценивается в $80$ баллов. При этом часть 1 оценивается в $65$ баллов, а часть 2 – в $15$ баллов. По умолчанию за каждый пункт каждой задачи можно получить $1$ балл. Однако за некоторые пункты некоторых задач можно получить другое количество баллов, которое явно указано в скобках рядом с меткой пункта.\n",
        "\n",
        "\n",
        "3. Каждый пункт оценивается с промежутком $0.5$. Например, если за пункт можно получить максимум $1$ балл, то за полностью корректное решение ставится $1$ балл, за решение с небольшими ошибками ставится $0.5$ балла, за решение с серьёзными ошибками или неправильное решение ставится $0$ баллов. Для пунктов, за которые можно получить максимум $2$ балла, в зависимости от решения можно получить $2$, $1.5$, $1$ и т.д. баллов. При этом пункты проверяются независимо друг от друга: если пункт $t+1$ зависит от численных результатов пункта $t$, и в пункте $t$ допускается ошибка, из-за которой в пункт $t+1$ приходят неверные входные данные, то при корректном решении пункт $t+1$ оценивается в максимальное количество баллов, которое можно за него получить.\n",
        "\n",
        "\n",
        "4. Бонусные задачи $X$ и $Y$ приведены в конце части 1 и обозначены значком $\\dagger$. Эти задачи необязательны к решению и учитываются сверх установленных $80$ баллов. Баллы за корректно решённые бонусные задачи прибавляются к набранным баллам, даже если в сумме получается больше $80$ баллов (оценка за домашнюю работу в этом случае будет больше 10, и так и будет внесена в таблицу с оценками).\n",
        "\n",
        "\n",
        "5. Весь код должен быть написан на Python, R, C или C++.\n",
        "\n",
        "\n",
        "6. Решения принимаются до **29 октября 2021 года, 23:59 МСК** включительно. Работы, отправленные после дедлайна, проверяются, но **не оцениваются**. Дата и время сдачи определяются по последнему запушенному в репозиторий коммиту (можно увидеть на GitHub, наведя мышкой на указатель срока (например, 3 days ago) справа от файлов).\n",
        "\n",
        "\n",
        "7. Все решения нужно загрузить в личный репозиторий на [GitHub Classroom](https://classroom.github.com/a/KZaAKjaA).\n",
        "\n",
        "\n",
        "8. Репозиторий должен содержать: PDF-файл с решениями задач части 1 и файл с кодом с решениями задач части 2. Решение задач части 1 можно набрать в любом электронном редакторе или написать от руки, а затем сделать качественный скан. Все решения должны быть расположены в правильном порядке в одном файле. Файлы должны быть названы по типу «name\\_surname\\_group\\_hw1\\_part1.pdf» и «name\\_surname\\_group\\_hw1\\_part2.ext», где вместо ext может быть .py, .ipynb, .R, .c, .cpp. Если решение части 2 разбивается на несколько файлов кода, то в репозиторий нужно загрузить все файлы, а в README.md подробно указать, что содержит каждый файл. \n",
        "\n",
        "\n",
        "9. Разрешается использовать без доказательства любые результаты, встречавшиеся на лекциях или семинарах по курсу, если получение этих результатов не является вопросом задания. Разрешается использовать любые свободные источники с указанием ссылки на них.\n",
        "\n",
        "\n",
        "10. Плагиат не допускается. При обнаружении случаев списывания, $0$ за работу выставляется всем участникам нарушения, даже если можно установить, кто у кого списал. "
      ],
      "id": "healthy-jimmy"
    },
    {
      "cell_type": "markdown",
      "metadata": {
        "id": "expensive-present"
      },
      "source": [
        "---"
      ],
      "id": "expensive-present"
    },
    {
      "cell_type": "markdown",
      "metadata": {
        "id": "0JqyW-2N30-V"
      },
      "source": [
        "##Libraries import"
      ],
      "id": "0JqyW-2N30-V"
    },
    {
      "cell_type": "code",
      "metadata": {
        "id": "e6-nixxP33Lb"
      },
      "source": [
        "import pandas as pd\n",
        "import numpy as np\n",
        "import matplotlib.pyplot as plt"
      ],
      "id": "e6-nixxP33Lb",
      "execution_count": 2,
      "outputs": []
    },
    {
      "cell_type": "markdown",
      "metadata": {
        "id": "perceived-silicon"
      },
      "source": [
        "#### Задача 14. Divide et impera!\n",
        "\n",
        "Файле `14.csv` содержит данные, которые являются смесью гауссиан. \n",
        "\n",
        "**[a]** Постройте гистограмму выборки. Изучите гистограмму и сделайте предположения о количестве гауссиан, а также задайте разумный вектор начальных параметров $\\theta$.\n",
        "\n",
        "**[б]** **(3 балла)** Реализуйте EM-алгоритм для нахождения оценки $\\hat{\\theta}$. Итоговые формулы представьте только в виде кода (то есть не требуется отдельно прикладывать или техать вывод формул).\n",
        "\n",
        "**[в]** Постройте график $Q$ в зависимости от числа итераций.\n",
        "\n",
        "**[г]** Являются ли полученные оценки параметров адекватными (адекватность оцените визуально по гистограмме). Если нет, приведите возможную причину провала EM-алгоритма. "
      ],
      "id": "perceived-silicon"
    },
    {
      "cell_type": "markdown",
      "metadata": {
        "id": "RSs0h3GsDiw4"
      },
      "source": [
        "##### **[a]**"
      ],
      "id": "RSs0h3GsDiw4"
    },
    {
      "cell_type": "code",
      "metadata": {
        "colab": {
          "base_uri": "https://localhost:8080/",
          "height": 0
        },
        "id": "prompt-lightning",
        "outputId": "dd3b64e5-e453-4fd2-c563-d2c362d678a9"
      },
      "source": [
        "data = pd.read_csv('14.csv', index_col=0)\n",
        "data.hist(bins=15)\n",
        "x = data.iloc[:,0]"
      ],
      "id": "prompt-lightning",
      "execution_count": 156,
      "outputs": [
        {
          "output_type": "display_data",
          "data": {
            "image/png": "[encoded data removed]",
            "text/plain": [
              "<Figure size 432x288 with 1 Axes>"
            ]
          },
          "metadata": {
            "needs_background": "light"
          }
        }
      ]
    },
    {
      "cell_type": "markdown",
      "metadata": {
        "id": "gMoqD7_uE17C"
      },
      "source": [
        "Выглядит, как 2 гауссианы с ожиданиями в 3 и 23. \\\\\n",
        "Параметры можно задать - $μ_1$ = min(X), $\\sigma^2_1$ = (max - min) / 2, $\\mu_2$ = max(X), $\\sigma^2_2$ = (max - min) / 2, p(вероятность принадлежать кластеру 1) = 1/2"
      ],
      "id": "gMoqD7_uE17C"
    },
    {
      "cell_type": "markdown",
      "metadata": {
        "id": "uf87Q4h_GFr0"
      },
      "source": [
        "##### **[б]**"
      ],
      "id": "uf87Q4h_GFr0"
    },
    {
      "cell_type": "markdown",
      "metadata": {
        "id": "8Hy5c7v1HKdy"
      },
      "source": [
        "Часть кода будет взята с семинара прошлого года, обозначу * (https://github.com/V-Marco/psmo_20_21/blob/master/seminars/sem4/PSMO_sem4.ipynb)"
      ],
      "id": "8Hy5c7v1HKdy"
    },
    {
      "cell_type": "code",
      "metadata": {
        "colab": {
          "base_uri": "https://localhost:8080/"
        },
        "id": "g_SExc5hGH3V",
        "outputId": "deccbea5-417f-4af7-d6c3-b981aeea14c9"
      },
      "source": [
        "#*\n",
        "theta = np.array([np.min(x), (np.max(x) - np.min(x)) / 2, np.max(x), (np.max(x) - np.min(x)) / 2, 1/2])\n",
        "theta"
      ],
      "id": "g_SExc5hGH3V",
      "execution_count": 157,
      "outputs": [
        {
          "output_type": "execute_result",
          "data": {
            "text/plain": [
              "array([-1.9006891 , 14.41794644, 26.93520377, 14.41794644,  0.5       ])"
            ]
          },
          "metadata": {},
          "execution_count": 157
        }
      ]
    },
    {
      "cell_type": "code",
      "metadata": {
        "id": "B3JQdrWiGx4t"
      },
      "source": [
        "#*\n",
        "def f(x, mu, sigma2):\n",
        "    return 1 / np.sqrt(2 * np.pi * sigma2) * np.exp(-1/2 * 1/sigma2 * (x - mu)**2)"
      ],
      "id": "B3JQdrWiGx4t",
      "execution_count": 158,
      "outputs": []
    },
    {
      "cell_type": "code",
      "metadata": {
        "id": "qsVRzUnOLZAO"
      },
      "source": [
        "#*\n",
        "def lnf(x, mu, sigma2):\n",
        "    return -1/2 * np.log(2 * np.pi * sigma2) - 1/2 * (x - mu) ** 2 / sigma2"
      ],
      "id": "qsVRzUnOLZAO",
      "execution_count": 159,
      "outputs": []
    },
    {
      "cell_type": "code",
      "metadata": {
        "id": "BRJ8pKhiLZDA"
      },
      "source": [
        "#*\n",
        "def Q_f(x, theta, p_z_1):\n",
        "    ell1 = lnf(x, theta[0], theta[1]) + np.log(theta[4])\n",
        "    ell2 = lnf(x, theta[2], theta[3]) + np.log(1 - theta[4])\n",
        "    return np.sum(p_z_1 * ell1 + (1 - p_z_1) * ell2)"
      ],
      "id": "BRJ8pKhiLZDA",
      "execution_count": 160,
      "outputs": []
    },
    {
      "cell_type": "code",
      "metadata": {
        "id": "AgADaq6oN2ch"
      },
      "source": [
        "#*\n",
        "def EM(x, theta):\n",
        "    \n",
        "    Q_history = []\n",
        "    \n",
        "    for i in range(10):\n",
        "        \n",
        "        # E-step\n",
        "        p_z_1 = f(x, mu = theta[0], sigma2 = theta[1]) * theta[4] / (theta[4] * f(x, mu = theta[0], sigma2 = theta[1]) + \n",
        "                                                       (1-theta[4]) * f(x, mu = theta[2], sigma2 = theta[3]))\n",
        "        \n",
        "        Q_history.append(Q_f(x, theta, p_z_1))\n",
        "        \n",
        "        if i > 0:\n",
        "            if (Q_history[i] - Q_history[i-1])**2 < 1e-3:\n",
        "                break\n",
        "        \n",
        "        # M-step\n",
        "        mu_1 = np.sum(p_z_1 * x) / np.sum(p_z_1)\n",
        "        mu_2 = np.sum((1-p_z_1) * x) / np.sum(1-p_z_1)\n",
        "        sigma2_1 = np.sum((x - theta[0]) ** 2 * p_z_1) / np.sum(p_z_1)\n",
        "        sigma2_2 = np.sum((x - theta[2]) ** 2 * (1-p_z_1)) / np.sum(1 - p_z_1)\n",
        "        p1 = np.sum(p_z_1) / len(x)\n",
        "        theta_new = np.array([mu_1, sigma2_1, mu_2, sigma2_2, p1])\n",
        "        \n",
        "        theta = theta_new\n",
        "    \n",
        "    return (theta, Q_history)"
      ],
      "id": "AgADaq6oN2ch",
      "execution_count": 161,
      "outputs": []
    },
    {
      "cell_type": "code",
      "metadata": {
        "id": "PilqwRpfN3yE"
      },
      "source": [
        "theta, Q = EM(x, theta)"
      ],
      "id": "PilqwRpfN3yE",
      "execution_count": 162,
      "outputs": []
    },
    {
      "cell_type": "code",
      "metadata": {
        "colab": {
          "base_uri": "https://localhost:8080/"
        },
        "id": "LYV-9lujN5Sk",
        "outputId": "219c26c7-4057-44a4-f8d7-95a8f576896d"
      },
      "source": [
        "theta"
      ],
      "id": "LYV-9lujN5Sk",
      "execution_count": 163,
      "outputs": [
        {
          "output_type": "execute_result",
          "data": {
            "text/plain": [
              "array([ 3.3080734 ,  8.61507046, 24.10888897,  5.93070758,  0.58932874])"
            ]
          },
          "metadata": {},
          "execution_count": 163
        }
      ]
    },
    {
      "cell_type": "markdown",
      "metadata": {
        "id": "NSqNQz1xR0w7"
      },
      "source": [
        "##### **[в]**"
      ],
      "id": "NSqNQz1xR0w7"
    },
    {
      "cell_type": "code",
      "metadata": {
        "colab": {
          "base_uri": "https://localhost:8080/",
          "height": 463
        },
        "id": "ZUKZZqwmN5VV",
        "outputId": "37d896c7-1432-4e01-9ca4-4afa6fadf86d"
      },
      "source": [
        "plt.figure(figsize=(10,7))\n",
        "plt.plot(Q)\n",
        "plt.title('Зависимость Q от количества итераций', fontsize=15)\n",
        "plt.xlabel('Номер итерации', fontsize=12)\n",
        "plt.grid()"
      ],
      "id": "ZUKZZqwmN5VV",
      "execution_count": 164,
      "outputs": [
        {
          "output_type": "display_data",
          "data": {
            "image/png": "[encoded data removed]",
            "text/plain": [
              "<Figure size 720x504 with 1 Axes>"
            ]
          },
          "metadata": {
            "needs_background": "light"
          }
        }
      ]
    },
    {
      "cell_type": "markdown",
      "metadata": {
        "id": "V-ngFh73Soor"
      },
      "source": [
        "##### **[г]**"
      ],
      "id": "V-ngFh73Soor"
    },
    {
      "cell_type": "markdown",
      "metadata": {
        "id": "Y34i5Z5zS7h4"
      },
      "source": [
        "У первого кластера выглядят достаточно адекватно, когда у второго кажется слишком большое оценненное отклонение выходит визуально. Это могло произойти в связи с тем, что кластеров больше чем 2, возможно есть еще 1 с мат ожиданием примерно в 17 -> наш 2 кластер поглотил 3 кластер в себя, поэтому такой результат."
      ],
      "id": "Y34i5Z5zS7h4"
    },
    {
      "cell_type": "markdown",
      "metadata": {
        "id": "directed-hypothesis"
      },
      "source": [
        "#### Задача 15. Из контрольной прошлого года\n",
        "\n",
        "В контрольной работе прошлого года была такая задача:\n",
        "\n",
        "> У меня есть три монетки. Они выпадают орлом с вероятностями $p_1$, $p_2$ и $p_3 = 1$. Я провожу эксперимент из 100 раундов. В каждом раунде я равновероятно выбираю одну из монеток, подбрасываю её два раза и записываю число выпавших орлов. После окончания эксперимента у меня на бумажке остаётся 100 записанных чисел. Какая монетка подкидывалась в каждом раунде, я не помню.\n",
        "\n",
        "На контрольной требовалось описать EM-алгоритм для нахождения $\\hat{p}_1$ и $\\hat{p}_2$.\n",
        "\n",
        "**[а]** **(3 балла)** В файле `15.csv` приведена описанная выборка из 100 чисел. Реализуйте EM-алгоритм для нахождения $\\hat{p}_1$ и $\\hat{p}_2$.\n",
        "\n",
        "**[б]** Постройте график $Q$ в зависимости от числа итераций.\n",
        "\n",
        "**[в]** Изучите выборку и прокомментируйте адекватность полученных оценок."
      ],
      "id": "directed-hypothesis"
    },
    {
      "cell_type": "markdown",
      "metadata": {
        "id": "H0zDdFdvTd7U"
      },
      "source": [
        "##### **[a]**"
      ],
      "id": "H0zDdFdvTd7U"
    },
    {
      "cell_type": "code",
      "metadata": {
        "colab": {
          "base_uri": "https://localhost:8080/",
          "height": 281
        },
        "id": "entertaining-column",
        "outputId": "d738fcba-d7a4-4c04-fb3b-07c9f38f67b4"
      },
      "source": [
        "data = pd.read_csv('15.csv', index_col=0)\n",
        "data.hist(bins=15)\n",
        "x = np.array(data.iloc[:,0])"
      ],
      "id": "entertaining-column",
      "execution_count": 165,
      "outputs": [
        {
          "output_type": "display_data",
          "data": {
            "image/png": "[encoded data removed]",
            "text/plain": [
              "<Figure size 432x288 with 1 Axes>"
            ]
          },
          "metadata": {
            "needs_background": "light"
          }
        }
      ]
    },
    {
      "cell_type": "code",
      "metadata": {
        "colab": {
          "base_uri": "https://localhost:8080/"
        },
        "id": "FzXBo5Roio6v",
        "outputId": "8d355223-2c3e-4730-f10e-17963de055a1"
      },
      "source": [
        "theta = np.array([1 / 2, 1 / 2])\n",
        "theta"
      ],
      "id": "FzXBo5Roio6v",
      "execution_count": 198,
      "outputs": [
        {
          "output_type": "execute_result",
          "data": {
            "text/plain": [
              "array([0.5, 0.5])"
            ]
          },
          "metadata": {},
          "execution_count": 198
        }
      ]
    },
    {
      "cell_type": "code",
      "metadata": {
        "id": "BFFnlySqjxA2"
      },
      "source": [
        "def f(x, p):\n",
        "    return p ** x * (1 - p) ** (2 - x)"
      ],
      "id": "BFFnlySqjxA2",
      "execution_count": 179,
      "outputs": []
    },
    {
      "cell_type": "code",
      "metadata": {
        "id": "LSoSjkwulVXJ"
      },
      "source": [
        "def lnf(x, p):\n",
        "    return np.log(f(x,p))"
      ],
      "id": "LSoSjkwulVXJ",
      "execution_count": 180,
      "outputs": []
    },
    {
      "cell_type": "code",
      "metadata": {
        "id": "ut-nOpSDj5Ef"
      },
      "source": [
        "def Q_f(x, theta, p_z_1):\n",
        "    ell1 = lnf(x, theta[0])\n",
        "    ell2 = lnf(x, theta[1])\n",
        "    # ell3 = lnf(x, 1)\n",
        "    return np.sum(p_z_1[:, 0] * ell1 + p_z_1[:, 1] * ell2) #+ (1 - p_z_1[:, 0] - p_z_1[:, 1]) * ell3"
      ],
      "id": "ut-nOpSDj5Ef",
      "execution_count": 181,
      "outputs": []
    },
    {
      "cell_type": "code",
      "metadata": {
        "id": "z6vTGLaJj5Hj"
      },
      "source": [
        "def EM(x, theta):\n",
        "    \n",
        "    Q_history = [] \n",
        "    for i in range(100):\n",
        "        \n",
        "        # E-step\n",
        "        p_z_1 = np.zeros((x.shape[0], 2))\n",
        "        p_z_1[:, 0] = (f(x, theta[0]) / (f(x, theta[0]) + f(x, theta[1]) + f(x, 1)))\n",
        "        p_z_1[:, 1] = (f(x, theta[1]) / (f(x, theta[0]) + f(x, theta[1]) + f(x, 1)))\n",
        "        \n",
        "        Q_history.append(Q_f(x, theta, p_z_1))\n",
        "        \n",
        "        if i > 0:\n",
        "            if (Q_history[i] - Q_history[i-1])**2 < 1e-3:\n",
        "                break\n",
        "        \n",
        "        # M-step\n",
        "        p_1 = np.sum(p_z_1[:, 0] * x) / np.sum(2 * p_z_1[:, 0])\n",
        "        p_2 = np.sum(p_z_1[:, 1] * x) / np.sum(2 * p_z_1[:, 1])\n",
        "        theta_new = np.array([p_1, p_2])\n",
        "        \n",
        "        theta = theta_new\n",
        "    \n",
        "    return (theta, Q_history)"
      ],
      "id": "z6vTGLaJj5Hj",
      "execution_count": 182,
      "outputs": []
    },
    {
      "cell_type": "code",
      "metadata": {
        "colab": {
          "base_uri": "https://localhost:8080/"
        },
        "id": "0ScSpZNVj5KK",
        "outputId": "93c152b2-abde-46e5-a84c-63533344cd16"
      },
      "source": [
        "theta, Q = EM(x, theta)\n",
        "theta"
      ],
      "id": "0ScSpZNVj5KK",
      "execution_count": 199,
      "outputs": [
        {
          "output_type": "execute_result",
          "data": {
            "text/plain": [
              "array([0.33221996, 0.33221996])"
            ]
          },
          "metadata": {},
          "execution_count": 199
        }
      ]
    },
    {
      "cell_type": "markdown",
      "metadata": {
        "id": "ayzExNTRNF-i"
      },
      "source": [
        "##### **[б]**"
      ],
      "id": "ayzExNTRNF-i"
    },
    {
      "cell_type": "code",
      "metadata": {
        "colab": {
          "base_uri": "https://localhost:8080/",
          "height": 463
        },
        "id": "IibiLQTzMyMM",
        "outputId": "b27eded7-ea94-4893-f082-978a10ad227c"
      },
      "source": [
        "plt.figure(figsize=(10,7))\n",
        "plt.plot(Q)\n",
        "plt.title('Зависимость Q от количества итераций', fontsize=15)\n",
        "plt.xlabel('Номер итерации', fontsize=12)\n",
        "plt.grid()"
      ],
      "id": "IibiLQTzMyMM",
      "execution_count": 200,
      "outputs": [
        {
          "output_type": "display_data",
          "data": {
            "image/png": "[encoded data removed]",
            "text/plain": [
              "<Figure size 720x504 with 1 Axes>"
            ]
          },
          "metadata": {
            "needs_background": "light"
          }
        }
      ]
    },
    {
      "cell_type": "markdown",
      "metadata": {
        "id": "o9PbwoXcNm-Y"
      },
      "source": [
        "##### **[в]**"
      ],
      "id": "o9PbwoXcNm-Y"
    },
    {
      "cell_type": "code",
      "metadata": {
        "colab": {
          "base_uri": "https://localhost:8080/"
        },
        "id": "FV2Ysf-VNyqa",
        "outputId": "df8de5b1-eed4-488b-d5a1-bafcbc878081"
      },
      "source": [
        "print(len(x[x==0]), len(x[x==1]), len(x[x==2]))"
      ],
      "id": "FV2Ysf-VNyqa",
      "execution_count": 201,
      "outputs": [
        {
          "output_type": "stream",
          "name": "stdout",
          "text": [
            "30 32 38\n"
          ]
        }
      ]
    },
    {
      "cell_type": "code",
      "metadata": {
        "colab": {
          "base_uri": "https://localhost:8080/"
        },
        "id": "tN4WKZWHT_E_",
        "outputId": "24d243ed-07ad-454f-c96f-c97c023b3bae"
      },
      "source": [
        "# Количество выпавших орлов на выборке\n",
        "np.sum(x)"
      ],
      "id": "tN4WKZWHT_E_",
      "execution_count": 204,
      "outputs": [
        {
          "output_type": "execute_result",
          "data": {
            "text/plain": [
              "108"
            ]
          },
          "metadata": {},
          "execution_count": 204
        }
      ]
    },
    {
      "cell_type": "code",
      "metadata": {
        "colab": {
          "base_uri": "https://localhost:8080/"
        },
        "id": "6XrvPoOuOLNy",
        "outputId": "10012a7b-8b0e-4a72-be2b-d32f8cea9d92"
      },
      "source": [
        "print(len(x) * 2 / 3 * theta[0], len(x) * 2 / 3 * theta[1], len(x) * 2 / 3 * 1)"
      ],
      "id": "6XrvPoOuOLNy",
      "execution_count": 203,
      "outputs": [
        {
          "output_type": "stream",
          "name": "stdout",
          "text": [
            "22.147997269258926 22.147997269258926 66.66666666666667\n"
          ]
        }
      ]
    },
    {
      "cell_type": "code",
      "metadata": {
        "colab": {
          "base_uri": "https://localhost:8080/"
        },
        "id": "8FdKJiZIUGbY",
        "outputId": "cbbaf146-36bd-4ec2-8b1c-55c8f04e877a"
      },
      "source": [
        "# Гипотетическое количество орлов\n",
        "len(x) * 2 / 3 * theta[0] + len(x) * 2 / 3 * theta[1] + len(x) * 2 / 3 * 1"
      ],
      "id": "8FdKJiZIUGbY",
      "execution_count": 205,
      "outputs": [
        {
          "output_type": "execute_result",
          "data": {
            "text/plain": [
              "110.96266120518453"
            ]
          },
          "metadata": {},
          "execution_count": 205
        }
      ]
    },
    {
      "cell_type": "markdown",
      "metadata": {
        "id": "dUMrXF6vNrRB"
      },
      "source": [
        "Алгоритм отработал штатно, можно сравнить количество всех выпавших орлов на выборке с количеством орлов, которые выпали бы с полученными вероятностями. Они крайне близки."
      ],
      "id": "dUMrXF6vNrRB"
    },
    {
      "cell_type": "markdown",
      "metadata": {
        "id": "passing-spine"
      },
      "source": [
        "#### Задача 16. Бутстраппируем!\n",
        "\n",
        "Исследователь Валентин каждый день ловит покемонов. По причинам, которые Валентин предпочитает не раскрывать, он совершает ровно 15 попыток поймать покемона за день. Каждая попытка может окончиться успехом с некоторой вероятностью. В файле `16.csv` представлены наблюдения о пойманных покемонах за 3 года. \n",
        "\n",
        "**[а]** Сделайте предположение о том, какое распределение имеет число пойманных за день покемонов. Это распределение должно иметь один неизвестный параметр.\n",
        "\n",
        "**[б]** Найдите точечную оценку неизвестного параметра методом максимального правдоподобия.\n",
        "\n",
        "**[в]** **(2 балла)** Постройте 95%-ый доверительный интервал для неизвестного параметра при помощи методов **Reverse bootstrap percentile**, **t-bootstrap** и **параметрического бутстрэпа**. "
      ],
      "id": "passing-spine"
    },
    {
      "cell_type": "markdown",
      "metadata": {
        "id": "r8vUOOoOU8TM"
      },
      "source": [
        "##### **[а]**"
      ],
      "id": "r8vUOOoOU8TM"
    },
    {
      "cell_type": "code",
      "metadata": {
        "colab": {
          "base_uri": "https://localhost:8080/",
          "height": 281
        },
        "id": "minor-detection",
        "outputId": "d8bb0ef8-9921-4f45-bed2-43582cf9c848"
      },
      "source": [
        "data = pd.read_csv('16.csv', index_col=0)\n",
        "data.hist(bins=15)\n",
        "x = np.array(data.iloc[:,0])"
      ],
      "id": "minor-detection",
      "execution_count": 210,
      "outputs": [
        {
          "output_type": "display_data",
          "data": {
            "image/png": "[encoded data removed]",
            "text/plain": [
              "<Figure size 432x288 with 1 Axes>"
            ]
          },
          "metadata": {
            "needs_background": "light"
          }
        }
      ]
    },
    {
      "cell_type": "markdown",
      "metadata": {
        "id": "jUYuPmvWVsST"
      },
      "source": [
        "Binomial distribution (15, p)"
      ],
      "id": "jUYuPmvWVsST"
    },
    {
      "cell_type": "markdown",
      "metadata": {
        "id": "Di9iIsTsVvxm"
      },
      "source": [
        "##### **[б]**"
      ],
      "id": "Di9iIsTsVvxm"
    },
    {
      "cell_type": "markdown",
      "metadata": {
        "id": "90D4f3HNXzF-"
      },
      "source": [
        "$$L = \\sum_{i=1}^n ln(const) + x_iln(p) + (15 - x_i)ln(1-p)$$\n",
        "$$\\frac{dL}{dp} = \\sum_{i=1}^n \\frac{x_i}{p} - \\frac{15 - x_i}{1-p}$$\n",
        "$$\\frac{\\bar x n}{\\hat p} - \\frac{15n}{1 - \\hat p} + \\frac{\\bar x n}{1 - \\hat p} = 0$$\n",
        "$$\\hat p = \\frac{\\bar x}{15}$$"
      ],
      "id": "90D4f3HNXzF-"
    },
    {
      "cell_type": "code",
      "metadata": {
        "colab": {
          "base_uri": "https://localhost:8080/"
        },
        "id": "KYdx81OHVvXP",
        "outputId": "5b020527-43f8-47f5-8cac-17c2cdc8b8df"
      },
      "source": [
        "p = np.mean(x) / 15\n",
        "p"
      ],
      "id": "KYdx81OHVvXP",
      "execution_count": 212,
      "outputs": [
        {
          "output_type": "execute_result",
          "data": {
            "text/plain": [
              "0.6547336377473364"
            ]
          },
          "metadata": {},
          "execution_count": 212
        }
      ]
    },
    {
      "cell_type": "markdown",
      "metadata": {
        "id": "ycHEKTUVZRVD"
      },
      "source": [
        "##### **[в]**"
      ],
      "id": "ycHEKTUVZRVD"
    },
    {
      "cell_type": "code",
      "metadata": {
        "colab": {
          "base_uri": "https://localhost:8080/"
        },
        "id": "syWXVHnbVCpW",
        "outputId": "68e96dc9-ebb4-4fb1-c1f6-52383c397a85"
      },
      "source": [
        "#reverse\n",
        "p_ = []\n",
        "for i in range(200):\n",
        "    x_n = np.random.choice(x, len(x), replace = True)\n",
        "    p_.append(np.mean(x_n) / 15)\n",
        "p_ = np.array(p_)\n",
        "p_ = p_ - p\n",
        "q = np.percentile(p_, (2.5, 97.5))\n",
        "l = p - q[1]\n",
        "r = p - q[0]\n",
        "print('[', l, ';', r, ']')"
      ],
      "id": "syWXVHnbVCpW",
      "execution_count": 240,
      "outputs": [
        {
          "output_type": "stream",
          "name": "stdout",
          "text": [
            "[ 0.6469832572298326 ; 0.6616255707762557 ]\n"
          ]
        }
      ]
    },
    {
      "cell_type": "code",
      "metadata": {
        "colab": {
          "base_uri": "https://localhost:8080/"
        },
        "id": "oRb63X6vhYHB",
        "outputId": "d23b795d-971b-414c-bc52-089455498082"
      },
      "source": [
        "#t\n",
        "t_ = []\n",
        "for i in range(200):\n",
        "    x_n = np.random.choice(x, len(x), replace = True)\n",
        "    p_ = np.mean(x_n) / 15\n",
        "    t_.append((p_ - p) / np.std(x_n))\n",
        "t_ = np.array(t_)\n",
        "l = (p - np.percentile(t_, 97.5) * np.std(x))\n",
        "r = (p - np.percentile(t_, 2.5) * np.std(x))\n",
        "print('[', l, ';', r, ']')"
      ],
      "id": "oRb63X6vhYHB",
      "execution_count": 233,
      "outputs": [
        {
          "output_type": "stream",
          "name": "stdout",
          "text": [
            "[ 0.647874610505458 ; 0.6612292733679502 ]\n"
          ]
        }
      ]
    },
    {
      "cell_type": "code",
      "metadata": {
        "colab": {
          "base_uri": "https://localhost:8080/"
        },
        "id": "sHR73weijTJN",
        "outputId": "52ea8925-f11e-4e30-da7d-b9dfea9b23bd"
      },
      "source": [
        "#param\n",
        "p_ = []\n",
        "for i in range(20000):\n",
        "    x_n = np.random.binomial(15, p)\n",
        "    p_.append(np.mean(x_n) / 15)\n",
        "p_ = np.array(p_)\n",
        "p_ = p_ - p\n",
        "q = np.percentile(p_, (2.5, 97.5))\n",
        "l = p - q[1]\n",
        "r = p - q[0]\n",
        "print('[', l, ';', r, ']')"
      ],
      "id": "sHR73weijTJN",
      "execution_count": 241,
      "outputs": [
        {
          "output_type": "stream",
          "name": "stdout",
          "text": [
            "[ 0.4428006088280061 ; 0.9094672754946728 ]\n"
          ]
        }
      ]
    }
  ]
}